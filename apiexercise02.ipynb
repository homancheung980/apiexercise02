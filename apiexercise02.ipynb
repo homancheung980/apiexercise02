{
 "cells": [
  {
   "cell_type": "code",
   "execution_count": 1,
   "id": "3f6e5824-d99d-4ec2-953b-731ef349484b",
   "metadata": {},
   "outputs": [],
   "source": [
    "import spotipy\n",
    "import json\n",
    "#open new tab in browser\n",
    "import webbrowser\n",
    "import urllib.request\n",
    "import spotipy.util as util"
   ]
  },
  {
   "cell_type": "code",
   "execution_count": 3,
   "id": "71d348a0-b10f-40f3-b60c-39604c7fb3f9",
   "metadata": {},
   "outputs": [
    {
     "name": "stdout",
     "output_type": "stream",
     "text": [
      "48c9d1941c53456b8ad142700242910\n"
     ]
    }
   ],
   "source": [
    "#weather_file is a variable name representing my file\n",
    "with open(\"weatherkeys.txt\", \"r\") as weather_file:\n",
    "    weather_key = weather_file.read()\n",
    "\n",
    "print(weather_key)"
   ]
  },
  {
   "cell_type": "code",
   "execution_count": null,
   "id": "1b74308b-cb6a-4215-9bae-5365ec85a377",
   "metadata": {},
   "outputs": [],
   "source": []
  }
 ],
 "metadata": {
  "kernelspec": {
   "display_name": "Python 3 (ipykernel)",
   "language": "python",
   "name": "python3"
  },
  "language_info": {
   "codemirror_mode": {
    "name": "ipython",
    "version": 3
   },
   "file_extension": ".py",
   "mimetype": "text/x-python",
   "name": "python",
   "nbconvert_exporter": "python",
   "pygments_lexer": "ipython3",
   "version": "3.12.7"
  }
 },
 "nbformat": 4,
 "nbformat_minor": 5
}
